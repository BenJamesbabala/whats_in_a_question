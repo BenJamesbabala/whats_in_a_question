{
 "cells": [
  {
   "cell_type": "markdown",
   "metadata": {},
   "source": [
    "### Packages\n",
    "Uses NLTK and pattern.en\n",
    "\n",
    "### Results\n",
    "Stores the results in a pickle file. "
   ]
  },
  {
   "cell_type": "code",
   "execution_count": null,
   "metadata": {
    "collapsed": true
   },
   "outputs": [],
   "source": [
    "import copy \n",
    "import json \n",
    "from collections import defaultdict\n",
    "from collections import OrderedDict\n",
    "import pickle\n",
    "import nltk\n",
    "from nltk.corpus import wordnet as wn\n",
    "from nltk.stem.lancaster import LancasterStemmerst = LancasterStemmer()\n",
    "import pattern\n",
    "from pattern.en import singularize"
   ]
  },
  {
   "cell_type": "code",
   "execution_count": null,
   "metadata": {
    "collapsed": true
   },
   "outputs": [],
   "source": [
    "def isplural(pluralForm):\n",
    "     singularForm = singularize(pluralForm)\n",
    "     plural = True if pluralForm is not singularForm else False\n",
    "     return plural, singularForm\n",
    "    \n",
    "'''isp, singularForm = isplural(pluralForm)\n",
    "    print pluralForm, singularForm, isp'''"
   ]
  },
  {
   "cell_type": "code",
   "execution_count": null,
   "metadata": {
    "collapsed": true
   },
   "outputs": [],
   "source": [
    "def bigrams(check):\n",
    "       return [first + \" \" + second for first, second in zip(check.split()[:-1], check.split()[1:]) ]"
   ]
  },
  {
   "cell_type": "code",
   "execution_count": null,
   "metadata": {
    "collapsed": true
   },
   "outputs": [],
   "source": [
    "with open(\"../Questions/MultipleChoice_mscoco_val2014_questions.json\") as f:\n",
    "    data = json.load(f)"
   ]
  },
  {
   "cell_type": "code",
   "execution_count": null,
   "metadata": {
    "collapsed": false
   },
   "outputs": [],
   "source": [
    "imgids = []\n",
    "for each in data['questions']:\n",
    "    i = int(each[\"image_id\"])\n",
    "    imgids.append(i)    "
   ]
  },
  {
   "cell_type": "code",
   "execution_count": null,
   "metadata": {
    "collapsed": false
   },
   "outputs": [],
   "source": [
    "imgids = list(set(imgids))\n",
    "print len(imgids)"
   ]
  },
  {
   "cell_type": "code",
   "execution_count": null,
   "metadata": {
    "collapsed": false
   },
   "outputs": [],
   "source": [
    "imgid_index = {}\n",
    "for index, imgid in enumerate(imgids):\n",
    "    imgid_index[imgid] = index\n",
    "print len(imgid_index)    "
   ]
  },
  {
   "cell_type": "code",
   "execution_count": null,
   "metadata": {
    "collapsed": true
   },
   "outputs": [],
   "source": [
    "pickle.dump( imgid_index, open( \"coco_vectors/imgid_index.p\", \"wb\" ) )"
   ]
  },
  {
   "cell_type": "code",
   "execution_count": null,
   "metadata": {
    "collapsed": false
   },
   "outputs": [],
   "source": [
    "questions = defaultdict(str)\n",
    "vocab = set()\n",
    "for each in data['questions']:\n",
    "    i = int(each[\"image_id\"])\n",
    "    q = each[\"question\"]\n",
    "    for word in q.split():\n",
    "        vocab.add(word)\n",
    "    qid = int(each[\"question_id\"])\n",
    "    if i not in questions:\n",
    "        questions[i] = str(q).lower().strip(\"?\")\n",
    "    else:\n",
    "        questions[i] = str(questions[i]) + \" \" + str(q).lower().strip(\"?\")\n",
    "print len(questions) #82783 number of images\n",
    "print questions[108677]\n",
    "print len(list(vocab))\n",
    "#22225 train vocab"
   ]
  },
  {
   "cell_type": "markdown",
   "metadata": {},
   "source": [
    "1 'person'}\n",
    "{u'supercategory': u'vehicle', u'id': 2, u'name': u'bicycle'}\n",
    "{u'supercategory': u'vehicle', u'id': 3, u'name': u'car'}\n",
    "{u'supercategory': u'vehicle', u'id': 4, u'name': u'motorcycle'}\n",
    "{u'supercategory': u'vehicle', u'id': 5, u'name': u'airplane'}\n",
    "{u'supercategory': u'vehicle', u'id': 6, u'name': u'bus'}\n",
    "{u'supercategory': u'vehicle', u'id': 7, u'name': u'train'}\n",
    "{u'supercategory': u'vehicle', u'id': 8, u'name': u'truck'}\n",
    "{u'supercategory': u'vehicle', u'id': 9, u'name': u'boat'}\n",
    "{u'supercategory': u'outdoor', u'id': 10, u'name': u'traffic light'}\n",
    "{u'supercategory': u'outdoor', u'id': 11, u'name': u'fire hydrant'}\n",
    "{u'supercategory': u'outdoor', u'id': 13, u'name': u'stop sign'}\n",
    "{u'supercategory': u'outdoor', u'id': 14, u'name': u'parking meter'}\n",
    "{u'supercategory': u'outdoor', u'id': 15, u'name': u'bench'}\n",
    "{u'supercategory': u'animal', u'id': 16, u'name': u'bird'}\n",
    "{u'supercategory': u'animal', u'id': 17, u'name': u'cat'}\n",
    "{u'supercategory': u'animal', u'id': 18, u'name': u'dog'}\n",
    "{u'supercategory': u'animal', u'id': 19, u'name': u'horse'}\n",
    "{u'supercategory': u'animal', u'id': 20, u'name': u'sheep'}\n",
    "{u'supercategory': u'animal', u'id': 21, u'name': u'cow'}\n",
    "{u'supercategory': u'animal', u'id': 22, u'name': u'elephant'}\n",
    "{u'supercategory': u'animal', u'id': 23, u'name': u'bear'}\n",
    "{u'supercategory': u'animal', u'id': 24, u'name': u'zebra'}\n",
    "{u'supercategory': u'animal', u'id': 25, u'name': u'giraffe'}\n",
    "{u'supercategory': u'accessory', u'id': 27, u'name': u'backpack'}\n",
    "{u'supercategory': u'accessory', u'id': 28, u'name': u'umbrella'}\n",
    "{u'supercategory': u'accessory', u'id': 31, u'name': u'handbag'}\n",
    "{u'supercategory': u'accessory', u'id': 32, u'name': u'tie'}\n",
    "{u'supercategory': u'accessory', u'id': 33, u'name': u'suitcase'}\n",
    "{u'supercategory': u'sports', u'id': 34, u'name': u'frisbee'}\n",
    "{u'supercategory': u'sports', u'id': 35, u'name': u'skis'}\n",
    "{u'supercategory': u'sports', u'id': 36, u'name': u'snowboard'}\n",
    "{u'supercategory': u'sports', u'id': 37, u'name': u'sports ball'}\n",
    "{u'supercategory': u'sports', u'id': 38, u'name': u'kite'}\n",
    "{u'supercategory': u'sports', u'id': 39, u'name': u'baseball bat'}\n",
    "{u'supercategory': u'sports', u'id': 40, u'name': u'baseball glove'}\n",
    "{u'supercategory': u'sports', u'id': 41, u'name': u'skateboard'}\n",
    "{u'supercategory': u'sports', u'id': 42, u'name': u'surfboard'}\n",
    "{u'supercategory': u'sports', u'id': 43, u'name': u'tennis racket'}\n",
    "{u'supercategory': u'kitchen', u'id': 44, u'name': u'bottle'}\n",
    "{u'supercategory': u'kitchen', u'id': 46, u'name': u'wine glass'}\n",
    "{u'supercategory': u'kitchen', u'id': 47, u'name': u'cup'}\n",
    "{u'supercategory': u'kitchen', u'id': 48, u'name': u'fork'}\n",
    "{u'supercategory': u'kitchen', u'id': 49, u'name': u'knife'}\n",
    "{u'supercategory': u'kitchen', u'id': 50, u'name': u'spoon'}\n",
    "{u'supercategory': u'kitchen', u'id': 51, u'name': u'bowl'}\n",
    "{u'supercategory': u'food', u'id': 52, u'name': u'banana'}\n",
    "{u'supercategory': u'food', u'id': 53, u'name': u'apple'}\n",
    "{u'supercategory': u'food', u'id': 54, u'name': u'sandwich'}\n",
    "{u'supercategory': u'food', u'id': 55, u'name': u'orange'}\n",
    "{u'supercategory': u'food', u'id': 56, u'name': u'broccoli'}\n",
    "{u'supercategory': u'food', u'id': 57, u'name': u'carrot'}\n",
    "{u'supercategory': u'food', u'id': 58, u'name': u'hot dog'}\n",
    "{u'supercategory': u'food', u'id': 59, u'name': u'pizza'}\n",
    "{u'supercategory': u'food', u'id': 60, u'name': u'donut'}\n",
    "{u'supercategory': u'food', u'id': 61, u'name': u'cake'}\n",
    "{u'supercategory': u'furniture', u'id': 62, u'name': u'chair'}\n",
    "{u'supercategory': u'furniture', u'id': 63, u'name': u'couch'}\n",
    "{u'supercategory': u'furniture', u'id': 64, u'name': u'potted plant'}\n",
    "{u'supercategory': u'furniture', u'id': 65, u'name': u'bed'}\n",
    "{u'supercategory': u'furniture', u'id': 67, u'name': u'dining table'}\n",
    "{u'supercategory': u'furniture', u'id': 70, u'name': u'toilet'}\n",
    "{u'supercategory': u'electronic', u'id': 72, u'name': u'tv'}\n",
    "{u'supercategory': u'electronic', u'id': 73, u'name': u'laptop'}\n",
    "{u'supercategory': u'electronic', u'id': 74, u'name': u'mouse'}\n",
    "{u'supercategory': u'electronic', u'id': 75, u'name': u'remote'}\n",
    "{u'supercategory': u'electronic', u'id': 76, u'name': u'keyboard'}\n",
    "{u'supercategory': u'electronic', u'id': 77, u'name': u'cell phone'}\n",
    "{u'supercategory': u'appliance', u'id': 78, u'name': u'microwave'}\n",
    "{u'supercategory': u'appliance', u'id': 79, u'name': u'oven'}\n",
    "{u'supercategory': u'appliance', u'id': 80, u'name': u'toaster'}\n",
    "{u'supercategory': u'appliance', u'id': 81, u'name': u'sink'}\n",
    "{u'supercategory': u'appliance', u'id': 82, u'name': u'refrigerator'}\n",
    "{u'supercategory': u'indoor', u'id': 84, u'name': u'book'}\n",
    "{u'supercategory': u'indoor', u'id': 85, u'name': u'clock'}\n",
    "{u'supercategory': u'indoor', u'id': 86, u'name': u'vase'}\n",
    "{u'supercategory': u'indoor', u'id': 87, u'name': u'scissors'}\n",
    "{u'supercategory': u'indoor', u'id': 88, u'name': u'teddy bear'}\n",
    "{u'supercategory': u'indoor', u'id': 89, u'name': u'hair drier'}\n",
    "{u'supercategory': u'indoor', u'id': 90, u'name': u'toothbrush'}"
   ]
  },
  {
   "cell_type": "code",
   "execution_count": null,
   "metadata": {
    "collapsed": true
   },
   "outputs": [],
   "source": [
    "word_index  = {}\n",
    "for index, word in enumerate(list(vocab)):\n",
    "    word_index[word] = index"
   ]
  },
  {
   "cell_type": "code",
   "execution_count": null,
   "metadata": {
    "collapsed": false
   },
   "outputs": [],
   "source": [
    "#coco_categories =  ['street sign', 'window', 'door', 'desk', 'hair','brush', 'plate', 'eyeglasses', 'hat', 'mirror', 'blender', 'shoe', 'person', 'bicycle', 'car', 'motorcycle', 'airplane', 'bus','train', 'truck', 'boat', 'traffic light', 'fire hydrant', 'stop sign', 'parking meter', 'bench', 'bird', 'cat', 'dog', 'horse', 'sheep', 'cow', 'elephant', 'bear', 'zebra', 'giraffe', 'backpack','umbrella',  'handbag', 'tie', 'suitcase', 'frisbee', 'skis', 'snowboard', 'sports ball', 'kite','baseball bat', 'baseball glove', 'skateboard', 'surfboard', 'tennis racket', 'bottle', 'wine glass', 'cup', 'fork', 'knife', 'spoon', 'bowl','banana', 'apple',  'sandwich', 'orange', 'broccoli','carrot', 'hot dog', 'pizza', 'donut', 'cake',   'chair', 'couch', 'potted plant', 'bed', 'dining table','toilet', 'tv', 'laptop',  'mouse', 'remote', 'keyboard', 'cell phone', 'microwave', 'oven','toaster', 'sink', 'refrigerator', 'book', 'clock', 'vase', 'scissors', 'teddy bear', 'hair drier','toothbrush']\n",
    "print len(coco_categories)"
   ]
  },
  {
   "cell_type": "code",
   "execution_count": null,
   "metadata": {
    "collapsed": false
   },
   "outputs": [],
   "source": [
    "syn = OrderedDict()\n",
    "for word in coco_categories:\n",
    "    s = wn.synsets(word.strip(\"\\n\"))\n",
    "    n = []\n",
    "    for each in s:\n",
    "        name = str(each.lemmas()[0].name()).lower()\n",
    "        if '_' in name:\n",
    "            temp = name.split(\"_\")\n",
    "            name = \" \".join(temp)\n",
    "        if name not in n:\n",
    "            n.append(name)\n",
    "    syn[word] = n   "
   ]
  },
  {
   "cell_type": "code",
   "execution_count": null,
   "metadata": {
    "collapsed": false
   },
   "outputs": [],
   "source": [
    "my_id_category = {}\n",
    "for each, thing in enumerate(syn):\n",
    "    #print each,thing\n",
    "    my_id_category[each] = thing"
   ]
  },
  {
   "cell_type": "code",
   "execution_count": null,
   "metadata": {
    "collapsed": false
   },
   "outputs": [],
   "source": [
    "pickle.dump( my_id_category, open( \"coco_vectors/my_id_category.p\", \"wb\" ) )"
   ]
  },
  {
   "cell_type": "code",
   "execution_count": null,
   "metadata": {
    "collapsed": false
   },
   "outputs": [],
   "source": [
    "#fine tuning for each category\n",
    "#syn['person'] += ['he', 'they','them','she','man','woman','person','people','girl','boy']\n",
    "#syn['motorcycle'] += ['bike','bikes','biking']\n",
    "#syn['sports ball'] += ['sporting','sporty','sports', 'football', 'basketball', 'baseball', 'dodgeball', 'ball']\n",
    "#syn['hair drier'] += ['hair dryer', 'blow dry', 'blow drying', 'blow dryer', 'dryer']\n",
    "#syn['potted plant'] += ['plant', 'flower', 'green']"
   ]
  },
  {
   "cell_type": "code",
   "execution_count": null,
   "metadata": {
    "collapsed": false
   },
   "outputs": [],
   "source": [
    "pathtoimg = {}\n",
    "with open('val_paths.txt', 'rb') as f:\n",
    "    val_paths = f.readlines()\n",
    "for index in xrange(len(val_paths)):\n",
    "    p = val_paths[index].split()[0].split(\"/\")[-1]\n",
    "    imgid = int(p.split(\"_\")[-1].strip(\".jpg\"))\n",
    "    pathtoimg[imgid] = p"
   ]
  },
  {
   "cell_type": "code",
   "execution_count": null,
   "metadata": {
    "collapsed": false
   },
   "outputs": [],
   "source": [
    "assert len(pathtoimg)==40504,\"ERROR:length mismatch\""
   ]
  },
  {
   "cell_type": "code",
   "execution_count": null,
   "metadata": {
    "collapsed": false
   },
   "outputs": [],
   "source": [
    "#read all questions \n",
    "qid_vector = []\n",
    "for imgid, ques in questions.iteritems():\n",
    "    for word in ques.split():\n",
    "        for category, synonyms in syn.iteritems():\n",
    "            isp, singularForm = isplural(word)\n",
    "            if singularForm != word:\n",
    "                if word in synonyms or word == str(category):\n",
    "                    s =   str(coco_categories.index(category)) \n",
    "                    if s not in qid_vector:  \n",
    "                        qid_vector.append(s)\n",
    "                        #print imgid, category\n",
    "                elif singularForm in synonyms or singularForm == str(category):\n",
    "                    s = str(coco_categories.index(category)) \n",
    "                    if s not in qid_vector:  \n",
    "                        qid_vector.append(s) \n",
    "                        #print imgid, category\n",
    "            else:\n",
    "                if word in synonyms or word == str(category):\n",
    "                    s =  str(coco_categories.index(category)) \n",
    "                    if s not in qid_vector:  \n",
    "                        qid_vector.append(s)\n",
    "                        #print imgid, category\n",
    "    for word in list(bigrams(ques)):\n",
    "        for category, synonyms in syn.iteritems():\n",
    "            isp, singularForm = isplural(word)\n",
    "            if singularForm != word:\n",
    "                if word in synonyms or word == str(category):\n",
    "                    s = str(coco_categories.index(category)) \n",
    "                    if s not in qid_vector:  \n",
    "                        qid_vector.append(s)\n",
    "                        #print imgid, category\n",
    "                elif singularForm in synonyms or singularForm == str(category):\n",
    "                    s = str(coco_categories.index(category)) \n",
    "                    if s not in qid_vector:  \n",
    "                        qid_vector.append(s)\n",
    "                        #print imgid, category\n",
    "            else:\n",
    "                if word in synonyms or word == str(category):\n",
    "                    s =  str(coco_categories.index(category)) \n",
    "                    if s not in qid_vector:  \n",
    "                        qid_vector.append(s)\n",
    "                        #print imgid, category"
   ]
  },
  {
   "cell_type": "code",
   "execution_count": null,
   "metadata": {
    "collapsed": true
   },
   "outputs": [],
   "source": [
    "with open('coco_vectors/remote.txt','wb') as write_file:\n",
    "     write_file.write('\\n'.join(qid_vector))"
   ]
  },
  {
   "cell_type": "code",
   "execution_count": null,
   "metadata": {
    "collapsed": false
   },
   "outputs": [],
   "source": [
    "for category, synonyms in syn.iteritems():\n",
    "    print category, str(coco_categories.index(category)) "
   ]
  },
  {
   "cell_type": "code",
   "execution_count": null,
   "metadata": {
    "collapsed": false
   },
   "outputs": [],
   "source": [
    "train_data = {}\n",
    "for imgid, ques in qid_vector.iteritems():\n",
    "    #s = ''\n",
    "    assert len(ques) == len(coco_categories),  str(imgid)\n",
    "    #for each in ques:\n",
    "        #s = s + ' ' + str(each)\n",
    "    #s = s.strip()\n",
    "    array_ques = np.array(ques)\n",
    "    #s = '/nfs.yoda/sganju1/caffe/data/coco/train2014/COCO_train2014_000000' + str(imgid) + '.jpg' + ' ' + s \n",
    "    train_data[imgid] = array_ques"
   ]
  },
  {
   "cell_type": "code",
   "execution_count": null,
   "metadata": {
    "collapsed": false
   },
   "outputs": [],
   "source": [
    "print len(train_data)\n",
    "pickle.dump( train_data, open( \"val_id.p\", \"wb\" ) )"
   ]
  },
  {
   "cell_type": "code",
   "execution_count": null,
   "metadata": {
    "collapsed": false
   },
   "outputs": [],
   "source": [
    "with open('coco_vectors/val.json','wb') as write_file:\n",
    "    #write_file.write('\\n'.join(train_data))\n",
    "    json.dump(qid_vector,write_file, indent=4)"
   ]
  }
 ],
 "metadata": {
  "kernelspec": {
   "display_name": "Python 2",
   "language": "python",
   "name": "python2"
  },
  "language_info": {
   "codemirror_mode": {
    "name": "ipython",
    "version": 2
   },
   "file_extension": ".py",
   "mimetype": "text/x-python",
   "name": "python",
   "nbconvert_exporter": "python",
   "pygments_lexer": "ipython2",
   "version": "2.7.10"
  }
 },
 "nbformat": 4,
 "nbformat_minor": 0
}
